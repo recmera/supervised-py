{
 "cells": [
  {
   "cell_type": "code",
   "execution_count": 5,
   "id": "bd420c61",
   "metadata": {},
   "outputs": [
    {
     "name": "stdout",
     "output_type": "stream",
     "text": [
      "              precision    recall  f1-score   support\n",
      "\n",
      "         0.0       1.00      0.00      0.00        17\n",
      "         1.0       0.87      1.00      0.93       110\n",
      "\n",
      "    accuracy                           0.87       127\n",
      "   macro avg       0.93      0.50      0.46       127\n",
      "weighted avg       0.88      0.87      0.80       127\n",
      "\n"
     ]
    }
   ],
   "source": [
    "from sklearn.svm import SVC\n",
    "from sklearn.model_selection import train_test_split\n",
    "from sklearn.metrics import classification_report\n",
    "\n",
    "import numpy as np\n",
    "from sklearn.model_selection import train_test_split\n",
    "from sklearn import metrics\n",
    "from sklearn.naive_bayes import GaussianNB\n",
    "import seaborn as sns\n",
    "import matplotlib.pyplot as plt\n",
    "\n",
    "import pandas as pd\n",
    "df  = pd.read_csv(\"data/data_prep.csv\")\n",
    "df.drop(columns=['student','lgain_pp', 'lgain_pe'], inplace=True)\n",
    "\n",
    "df = df.apply(pd.to_numeric, errors='coerce')\n",
    "# Remove rows with NaN values\n",
    "df = df.dropna()\n",
    "\n",
    "# Carga el conjunto de datos\n",
    "X = df.drop(columns=['take_exam'])\n",
    "y = df.take_exam\n",
    "# Dividir los datos en conjuntos de entrenamiento y prueba\n",
    "X_train, X_test, y_train, y_test = train_test_split(X, y, test_size=0.2, random_state=42)\n",
    "\n",
    "# Crear y ajustar el clasificador SVM con la estrategia One-vs-All\n",
    "svm = SVC(decision_function_shape='ovr')\n",
    "svm.fit(X_train, y_train)\n",
    "\n",
    "# Realizar predicciones en el conjunto de prueba\n",
    "y_pred = svm.predict(X_test)\n",
    "\n",
    "# Imprimir el informe de clasificación\n",
    "print(classification_report(y_test, y_pred, zero_division=1))"
   ]
  }
 ],
 "metadata": {
  "kernelspec": {
   "display_name": "Python 3 (ipykernel)",
   "language": "python",
   "name": "python3"
  },
  "language_info": {
   "codemirror_mode": {
    "name": "ipython",
    "version": 3
   },
   "file_extension": ".py",
   "mimetype": "text/x-python",
   "name": "python",
   "nbconvert_exporter": "python",
   "pygments_lexer": "ipython3",
   "version": "3.10.10"
  }
 },
 "nbformat": 4,
 "nbformat_minor": 5
}
